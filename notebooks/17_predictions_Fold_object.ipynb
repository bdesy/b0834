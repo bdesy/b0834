{
 "cells": [
  {
   "cell_type": "code",
   "execution_count": 4,
   "metadata": {
    "collapsed": true,
    "deletable": true,
    "editable": true
   },
   "outputs": [],
   "source": [
    "import numpy as np\n",
    "import matplotlib.pyplot as plt\n",
    "from scipy.fftpack import fftshift, fft2, ifft2, ifftshift, fftfreq\n",
    "from mpl_toolkits.axes_grid1 import make_axes_locatable\n",
    "from scipy import stats\n",
    "import matplotlib\n",
    "from scripts.custom_functions import *\n",
    "from tqdm import tqdm\n",
    "\n",
    "matplotlib.rcParams['font.size'] = 22\n",
    "matplotlib.rc('font',**{'family':'fantasy','fantasy':['xkcd']})\n",
    "matplotlib.rc('text', usetex=True)\n",
    "\n",
    "colors = ['#00ffff', '#008000', '#ffa500', 'magenta', 'b', '#ce2929', '#19c4b2', '#9341a6' ]"
   ]
  },
  {
   "cell_type": "markdown",
   "metadata": {
    "deletable": true,
    "editable": true
   },
   "source": [
    "Setting the units, parameters of the pulsar and predictions."
   ]
  },
  {
   "cell_type": "code",
   "execution_count": 5,
   "metadata": {
    "collapsed": false,
    "deletable": true,
    "editable": true
   },
   "outputs": [
    {
     "data": {
      "text/plain": [
       "1.2147852890204997e-13"
      ]
     },
     "execution_count": 5,
     "metadata": {},
     "output_type": "execute_result"
    }
   ],
   "source": [
    "# Units\n",
    "pc=3.086e18 # in cm\n",
    "c=2.99792458e10 # in cm/s\n",
    "AU = 1.469e13 # in cm\n",
    "re =2.8e-13 # in cm\n",
    "mas_per_rad = 2.06265e8\n",
    "one_mas_in_rad = 4.848e-9\n",
    "\n",
    "# Pulsar's parameters and errors\n",
    "dp, err_dp = 620.*pc, 60./620               # Siqi's\n",
    "dlens=389.*pc                               # Siqi's, no error so considered constant\n",
    "\n",
    "Deff = dp*dlens/(dp-dlens)\n",
    "s = 1.-dlens/dp                             # dimensionless\n",
    "err_Deff, err_s = err_dp, err_dp            # Same fractionnal errors as dp\n",
    "Veff, err_Veff = 305*100000, 3./305         # Brisken's, in cm/s\n",
    "\n",
    "# Observing parameters, considered exact\n",
    "freqs = [314.5e6, 322.5e6, 330.5e6, 338.5e6]\n",
    "ls = [c/f for f in freqs]\n",
    "freq_obs = freqs[0]\n",
    "l = c / freq_obs\n",
    "\n",
    "# Assumptions for predictions, considered exact\n",
    "T = 0.5*AU     \n",
    "thetaT=T/dlens\n",
    "dne = -(0.003*1.1 - 0.003)\n",
    "\n",
    "dns = [-wvl**2./(2.*np.pi)*dne*re for wvl in ls] \n",
    "dn = -l**2./(2.*np.pi)*dne*re \n",
    "dn"
   ]
  },
  {
   "cell_type": "markdown",
   "metadata": {
    "deletable": true,
    "editable": true
   },
   "source": [
    "All errors manipulated are fractionnal and dimensionless, the error analysis is still under development and need reviewing. It is documented in LaTex below for better reading.\n",
    "\n",
    "analytical propagation : $\\Delta\\theta_{ref},\\quad p_\\ell=\\Delta n\\theta_T\\sqrt{\\theta_R},\\quad \\theta,\\quad \\beta,\\quad R\\quad \\&\\quad \\theta_R$ \n",
    "\n",
    "bootstap : predicted $\\Delta\\theta$ and $\\mu/\\mu_0$"
   ]
  },
  {
   "cell_type": "code",
   "execution_count": 6,
   "metadata": {
    "collapsed": true,
    "deletable": true,
    "editable": true
   },
   "outputs": [],
   "source": [
    "class Fold(object):\n",
    "    def __init__(self, name, dtheta, mu):\n",
    "        '''\n",
    "        params :\n",
    "            name (string) : for printing purposes\n",
    "            dtheta, mu : 2-elements array or list, \n",
    "              error is the second value of the theta and mu lists,\n",
    "              in the same dimensions, if no error set to 0\n",
    "        return :\n",
    "            self.err_mu : fractionnal error on mu\n",
    "            self.err_dtheta : fractionnal error on dtheta\n",
    "        '''\n",
    "        self.name = name\n",
    "        self.dtheta = dtheta[0]\n",
    "        self.mu = mu[0]\n",
    "        self.err_mu = mu[1]/mu[0]\n",
    "        self.err_dtheta = dtheta[1]/dtheta[0]\n",
    "    \n",
    "    def __repr__(self):\n",
    "        '''print function for output of a print(Fold object) command, customizable'''\n",
    "        return 'Fold object {0}'.format(self.name)\n",
    "    \n",
    "    def get_dtheta_ref(self, show=False):\n",
    "        ''' if show=True, will see dtheta-mu points with theoretical curve\n",
    "        return :\n",
    "            self.dtheta_ref [rad]\n",
    "            self.err_dtheta_ref fractionnal, dimensionless'''\n",
    "        theta_theo = ((3./2.)*self.mu)**(-3./5.)\n",
    "        self.dtheta_ref = ((self.dtheta/mas_per_rad)/theta_theo)\n",
    "        \n",
    "        err_theta_theo = self.err_mu*(3./5.)\n",
    "        self.err_dtheta_ref = np.sqrt( (err_theta_theo)**2 + (self.err_dtheta)**2 )\n",
    "\n",
    "        if show:\n",
    "            thetas = np.arange(0.1, 1000, 0.1)\n",
    "            mus =  (2./3.)*np.abs(thetas)**(-5./3.)\n",
    "            fig = plt.figure(figsize=(10,10))\n",
    "            ax = fig.add_subplot(1,1,1)\n",
    "            theory = ax.plot(thetas, mus, 'b-')\n",
    "            plt.ylabel(r'$|\\mu / \\mu_0|$')\n",
    "            plt.xlabel(r'$|\\Delta\\theta| [mas] $')\n",
    "            plt.plot(self.dtheta, self.mu, 'mo', label=r'original $\\Delta \\theta$ position')\n",
    "            plt.plot(self.dtheta/(self.dtheta_ref*mas_per_rad), self.mu, 'co', label=r'corrected $\\Delta \\theta/\\Delta \\theta_{ref}$  position')\n",
    "            ax.set_yscale('log')\n",
    "            ax.set_xscale('log')\n",
    "            plt.legend()\n",
    "            plt.show()\n",
    "    \n",
    "    def get_params(self):\n",
    "        '''\n",
    "        with self.dtheta_ref, return :\n",
    "            self.lens_param (dn*thetaT*sqrt(thetaR)) dimensionless\n",
    "            self.theta [mas]: observed position of pulsar relative to apex of fold\n",
    "            self.beta [mas]: real position of pulsar\n",
    "            self.thetaR dimensionless\n",
    "            self.R [cm, or same dimension as dlens] \n",
    "        \n",
    "        and errors on these, see below for justifications\n",
    "        '''\n",
    "        self.lens_param = 2*((self.dtheta_ref)**(5./2.))/(np.sqrt(2)*s) \n",
    "        self.theta = (((-np.sqrt(2)*s*self.lens_param/(2*self.dtheta/mas_per_rad))**(2.))**(1./3.))*mas_per_rad\n",
    "        self.beta = self.theta - self.dtheta\n",
    "        self.thetaR = (self.lens_param/(thetaT*dn))**2\n",
    "        self.R = self.thetaR*dlens # in cm \n",
    "        \n",
    "        self.err_lens_param = np.sqrt(((5./2.)*self.err_dtheta_ref)**2 + (err_s)**2)\n",
    "        self.err_theta = (2./3)*np.sqrt((err_s)**2 + (self.err_dtheta)**2 + (self.err_lens_param)**2)\n",
    "        self.err_beta = np.sqrt(self.err_theta**2 + self.err_dtheta**2)\n",
    "        self.err_R = self.err_lens_param*2\n",
    "         \n",
    "    def make_predictions(self, center_freqs):\n",
    "        '''\n",
    "        params : \n",
    "            center_freqs : list of central frequencies of observations\n",
    "        return :\n",
    "            self.predicted_thetas, mus from solution of lens equation from Dana's functions\n",
    "            self.predicted_dthetas, using theta - self.beta\n",
    "            self.predicted_dthetas2, same but using another equivalent path\n",
    "        '''\n",
    "        self.predicted_thetas = []\n",
    "        self.predicted_mus = []\n",
    "        \n",
    "        for f in center_freqs:\n",
    "            l = c / f\n",
    "            dn = -l**2./(2.*np.pi)*dne*re\n",
    "            self.predicted_thetas.append(get_theta(dn, self.thetaR, thetaT, self.beta/mas_per_rad, s)[0]*mas_per_rad)\n",
    "            self.predicted_mus.append(get_mu(dn, self.thetaR, thetaT, self.beta/mas_per_rad, s)[0])\n",
    "            \n",
    "        self.predicted_dthetas = [(theta - self.beta) for theta in self.predicted_thetas]\n",
    "        self.predicted_dthetas2 = [(np.sqrt(2)*s*self.lens_param*(dns[i]/dns[0]))/(2*(self.predicted_thetas[i]/mas_per_rad)**(3./2.))*mas_per_rad for i in range(4)]\n",
    "\n",
    "    def bootstrap_predictions(self, center_freqs, N):\n",
    "        '''\n",
    "        Under development, \n",
    "            produces Gaussian distributions for thetaR, beta and s\n",
    "              (could be restricted more using truncated normal distribution function's limits, expressed in nb of sigma)\n",
    "            makes sure that these don't cross the origin\n",
    "            for each 3-uple left and frequency band, computes a prediction on dtheta and mu\n",
    "        \n",
    "        params:\n",
    "            center_freqs for which we want to make predictions\n",
    "            N initital size of distribution, will be reduced by limits on parameters\n",
    "        return : \n",
    "            self.bootstrapped_thetas, mus : list of 4 distributions, one per frequency band\n",
    "            self.thetaRs, betas, ses : distributions of bootstrapped parameters\n",
    "        '''\n",
    "        thetaRs = stats.truncnorm.rvs(6, -6, loc=self.thetaR, scale=self.err_R*self.thetaR, size=N)\n",
    "        betas = stats.truncnorm.rvs(6, -6, loc=self.beta, scale=self.err_beta*abs(self.beta), size=N)\n",
    "        ses = stats.truncnorm.rvs(6, -6, loc=s, scale=err_s*s, size=N)\n",
    "        indices_to_clear = []\n",
    "        for i in range(N):\n",
    "            if thetaRs[i] <= 0.01:\n",
    "                indices_to_clear.append(i)\n",
    "            if betas[i] >= -2.:\n",
    "                indices_to_clear.append(i)\n",
    "            if ses[i] <= 0:\n",
    "                indices_to_clear.append(i)\n",
    "        indices_to_clear2 = np.unique(np.array(indices_to_clear, dtype=int))\n",
    "        thetaRs = np.delete(thetaRs, indices_to_clear2)\n",
    "        betas = np.delete(betas, indices_to_clear2)\n",
    "        ses = np.delete(ses, indices_to_clear2)\n",
    "        \n",
    "        self.bootstrapped_thetas = []\n",
    "        self.bootstrapped_mus = []\n",
    "  \n",
    "        for ii in range(len(center_freqs)):\n",
    "            f = center_freqs[ii]\n",
    "            l = c/ f\n",
    "            dn = -l**2./(2.*np.pi)*dne*re            \n",
    "            self.bootstrapped_thetas.append(np.zeros(thetaRs.shape))\n",
    "            self.bootstrapped_mus.append(np.zeros(thetaRs.shape))\n",
    "            for i in tqdm(range(len(ses))):\n",
    "                self.bootstrapped_thetas[ii][i] = get_theta(dn, thetaRs[i], thetaT, betas[i]/mas_per_rad, ses[i])[0]*mas_per_rad\n",
    "                self.bootstrapped_mus[ii][i] = get_mu(dn, thetaRs[i], thetaT, betas[i]/mas_per_rad, ses[i])[0]\n",
    "        \n",
    "        self.errs_predicted_dthetas = [np.std(self.bootstrapped_thetas[i]) for i in range(len(center_freqs))]\n",
    "        self.errs_predicted_mus = [np.std(self.bootstrapped_mus[i]) for i in range(len(center_freqs))]\n",
    "        self.err_predicted_dthetas = [np.sqrt(self.err_beta**2 + (self.errs_predicted_dthetas[i])**2) for i in range(len(center_freqs))]\n",
    "        self.thetaRs = thetaRs\n",
    "        self.betas = betas\n",
    "        self.ses = ses\n",
    "        "
   ]
  },
  {
   "cell_type": "markdown",
   "metadata": {
    "deletable": true,
    "editable": true
   },
   "source": [
    "Here is a readable explanation of error propagation into the Fold object, for simplicity, we note $\\frac{\\mu}{\\mu_0}$ as $\\mu$. All the analytical propagation have the actual calculation on the left and the error on the right. The rules used are that constant don't affect the error, a power multiplies the fractional error and products of powers use the general formula for $z= cx^Ny^M$,\n",
    "\n",
    "$$\\sigma_z = \\sqrt{N^2\\left(\\sigma_x\\right)^2 + M^2\\left(\\sigma_y\\right)^2}.$$\n",
    "\n",
    "\\__ __init__ __  : the errors on $\\mu$ and $\\Delta\\theta$ are transformed into fractional errors\n",
    "\n",
    "__get_dtheta_ref__ : the notation here is $\\frac{\\Delta\\theta_{ref}}{\\Delta\\theta} = \\frac{1}{\\Delta\\theta_{theo}}$, therefore, we first compute\n",
    "$$\\Delta\\theta_{theo} = \\left(\\frac{3}{2} \\mu \\right)^{-3/5}\\qquad \\sigma_{\\Delta\\theta_{theo}} = (3/5)\\sigma_{\\mu}$$\n",
    "to then get \n",
    "$$\\Delta\\theta_{ref} = \\frac{\\Delta\\theta}{\\Delta\\theta_{theo}}\\qquad \\sigma_{\\Delta\\theta_{ref}} = \\sqrt{\\sigma_{\\Delta\\theta}^2 + \\sigma_{\\Delta\\theta_{theo}}^2}$$\n",
    "\n",
    "\n",
    "__get_params__ : \n",
    "\n",
    "$$p_\\ell = \\frac{2(\\Delta\\theta_{ref})^{5/2}}{\\sqrt{2}s} \\qquad \\sigma_{p_\\ell} = \\sqrt{(\\frac{5}{2}\\sigma_{\\Delta\\theta})^2 + \\sigma_{s}^2}$$\n",
    "        \n",
    "$$\\theta = \\left(\\frac{-\\sqrt{2} s p_\\ell}{2\\Delta\\theta}\\right)^{2/3} \\qquad \\sigma_\\theta = \\frac{2}{3}\\sqrt{\\sigma_s^2 + \\sigma_{\\Delta\\theta}^2 + \\sigma_{p_\\ell}^2}$$\n",
    "\n",
    "$$\\beta = \\theta-\\Delta\\theta  \\qquad \\sigma_\\beta= \\sqrt{\\sigma_\\theta^2 + \\sigma_{\\Delta\\theta}^2}$$\n",
    "$$\\theta_R = \\left(\\frac{p_\\ell}{\\theta_T\\Delta n}\\right)^2 \\qquad \\sigma_{\\theta_R} =\\sigma_R= 2 \\sigma_{p_\\ell}$$\n",
    "\n",
    "__bootstrap_predictions__ :\n",
    "\n",
    "\n"
   ]
  },
  {
   "cell_type": "markdown",
   "metadata": {
    "deletable": true,
    "editable": true
   },
   "source": [
    "## Testing bootstapping errors"
   ]
  },
  {
   "cell_type": "code",
   "execution_count": 50,
   "metadata": {
    "collapsed": true,
    "deletable": true,
    "editable": true
   },
   "outputs": [],
   "source": [
    "test = Fold('test', [16.2774788, 1.5], [0.0010368129, 0.0003])\n",
    "test.get_dtheta_ref(show=False)\n",
    "test.get_params()\n",
    "test.make_predictions(freqs)"
   ]
  },
  {
   "cell_type": "code",
   "execution_count": 51,
   "metadata": {
    "collapsed": false,
    "deletable": true,
    "editable": true
   },
   "outputs": [
    {
     "name": "stderr",
     "output_type": "stream",
     "text": [
      "100%|██████████| 8265/8265 [00:04<00:00, 2040.00it/s]\n",
      "100%|██████████| 8265/8265 [00:04<00:00, 2050.88it/s]\n",
      "100%|██████████| 8265/8265 [00:04<00:00, 1978.22it/s]\n",
      "100%|██████████| 8265/8265 [00:04<00:00, 1980.65it/s]\n"
     ]
    }
   ],
   "source": [
    "test.bootstrap_predictions(freqs, 10000)"
   ]
  },
  {
   "cell_type": "code",
   "execution_count": 59,
   "metadata": {
    "collapsed": false,
    "deletable": true,
    "editable": true
   },
   "outputs": [
    {
     "name": "stdout",
     "output_type": "stream",
     "text": [
      "resulting N : 8265\n"
     ]
    }
   ],
   "source": [
    "print('resulting N : '+ str(len(test.betas)))"
   ]
  },
  {
   "cell_type": "code",
   "execution_count": 60,
   "metadata": {
    "collapsed": false,
    "deletable": true,
    "editable": true
   },
   "outputs": [
    {
     "data": {
      "image/png": "[encoded data removed]",
      "text/plain": [
       "<matplotlib.figure.Figure at 0x1129352d0>"
      ]
     },
     "metadata": {},
     "output_type": "display_data"
    },
    {
     "data": {
      "image/png": "[encoded data removed]",
      "text/plain": [
       "<matplotlib.figure.Figure at 0x112935250>"
      ]
     },
     "metadata": {},
     "output_type": "display_data"
    },
    {
     "data": {
      "image/png": "[encoded data removed]",
      "text/plain": [
       "<matplotlib.figure.Figure at 0x11269c310>"
      ]
     },
     "metadata": {},
     "output_type": "display_data"
    }
   ],
   "source": [
    "plt.hist(test.thetaRs, bins=1000)\n",
    "plt.title('thetaR distribution')\n",
    "plt.show()\n",
    "plt.hist(test.betas, bins=1000)\n",
    "plt.title('beta distribution')\n",
    "plt.show()\n",
    "plt.hist(test.ses, bins=1000)\n",
    "plt.title('s distribution')\n",
    "plt.show()"
   ]
  },
  {
   "cell_type": "code",
   "execution_count": 62,
   "metadata": {
    "collapsed": false,
    "deletable": true,
    "editable": true
   },
   "outputs": [
    {
     "name": "stdout",
     "output_type": "stream",
     "text": [
      "fractionnal errors on dtheta : [0.35783190383201197, 0.35781922882906286, 0.35780764256102199, 0.35779702881455266]\n",
      "estimate error bars on dtheta : 5.82460122859\n"
     ]
    },
    {
     "data": {
      "image/png": "[encoded data removed]",
      "text/plain": [
       "<matplotlib.figure.Figure at 0x114ffb910>"
      ]
     },
     "metadata": {},
     "output_type": "display_data"
    },
    {
     "data": {
      "image/png": "[encoded data removed]",
      "text/plain": [
       "<matplotlib.figure.Figure at 0x115354750>"
      ]
     },
     "metadata": {},
     "output_type": "display_data"
    },
    {
     "name": "stdout",
     "output_type": "stream",
     "text": [
      " predicted : 0.0253150499921\n",
      " mean of bootstrap : 0.0286968297418\n",
      " std of bootstrap : 0.0119009112222\n"
     ]
    }
   ],
   "source": [
    "i=0\n",
    "\n",
    "print('fractionnal errors on dtheta : {0}'.format(test.err_predicted_dthetas))\n",
    "print('estimate error bars on dtheta : {0}'.format(test.predicted_dthetas[0]*test.err_predicted_dthetas[0]))\n",
    "\n",
    "plt.plot(test.bootstrapped_thetas[i], c =colors[7])\n",
    "plt.axhline(test.predicted_thetas[i], c='darkcyan')\n",
    "plt.show()\n",
    "plt.hist(test.bootstrapped_thetas[i], bins=100, )\n",
    "plt.show()\n",
    "print(' predicted : {0}\\n mean of bootstrap : {1}\\n std of bootstrap : {2}'.format(test.predicted_thetas[i], np.mean(test.bootstrapped_thetas[i]), np.std(test.bootstrapped_thetas[i])))"
   ]
  },
  {
   "cell_type": "code",
   "execution_count": 48,
   "metadata": {
    "collapsed": false,
    "deletable": true,
    "editable": true
   },
   "outputs": [
    {
     "data": {
      "image/png": "[encoded data removed]",
      "text/plain": [
       "<matplotlib.figure.Figure at 0x114042250>"
      ]
     },
     "metadata": {},
     "output_type": "display_data"
    },
    {
     "data": {
      "image/png": "[encoded data removed]",
      "text/plain": [
       "<matplotlib.figure.Figure at 0x114cb5590>"
      ]
     },
     "metadata": {},
     "output_type": "display_data"
    },
    {
     "name": "stdout",
     "output_type": "stream",
     "text": [
      " predicted : 0.00103573903185\n",
      " mean of bootstrap : 0.00165101522472\n",
      " std of bootstrap : 0.00228883244508\n"
     ]
    }
   ],
   "source": [
    "plt.plot(test.bootstrapped_mus[i])\n",
    "plt.axhline(test.predicted_mus[i], c='m')\n",
    "plt.show()\n",
    "plt.hist(test.bootstrapped_mus[i], bins=100, )\n",
    "plt.show()\n",
    "print(' predicted : {0}\\n mean of bootstrap : {1}\\n std of bootstrap : {2}'.format(test.predicted_mus[i], np.mean(test.bootstrapped_mus[i]), np.std(test.bootstrapped_mus[i])))"
   ]
  },
  {
   "cell_type": "markdown",
   "metadata": {
    "deletable": true,
    "editable": true
   },
   "source": [
    "## Predictions with arclets bright in freq 00"
   ]
  },
  {
   "cell_type": "code",
   "execution_count": 7,
   "metadata": {
    "collapsed": false,
    "deletable": true,
    "editable": true
   },
   "outputs": [
    {
     "data": {
      "text/plain": [
       "array([[  0.00000000e+00,   1.62775000e+01,   0.00000000e+00,\n",
       "          1.11499714e-03,   0.00000000e+00],\n",
       "       [  1.00000000e+00,   1.85079000e+01,   0.00000000e+00,\n",
       "          2.05843433e-03,   0.00000000e+00],\n",
       "       [  2.00000000e+00,   1.90237000e+01,   0.00000000e+00,\n",
       "          1.38508566e-03,   0.00000000e+00],\n",
       "       [  3.00000000e+00,   1.91462000e+01,   0.00000000e+00,\n",
       "          1.04314493e-03,   0.00000000e+00],\n",
       "       [  4.00000000e+00,   2.03450000e+01,   0.00000000e+00,\n",
       "          1.13914473e-03,   0.00000000e+00],\n",
       "       [  5.00000000e+00,   2.20030000e+01,   0.00000000e+00,\n",
       "          1.25168843e-03,   0.00000000e+00],\n",
       "       [  6.00000000e+00,   2.26010000e+01,   0.00000000e+00,\n",
       "          1.24448022e-03,   0.00000000e+00],\n",
       "       [  7.00000000e+00,   2.47330000e+01,   0.00000000e+00,\n",
       "          7.35090703e-04,   0.00000000e+00]])"
      ]
     },
     "execution_count": 7,
     "metadata": {},
     "output_type": "execute_result"
    }
   ],
   "source": [
    "arclets = np.loadtxt('/mnt/scratch-lustre/bdesy/b0834/data/results/ratio_main_masks_method/arclet00_ID_dthetas_mus3001_vf.txt')"
   ]
  },
  {
   "cell_type": "code",
   "execution_count": 8,
   "metadata": {
    "collapsed": true,
    "deletable": true,
    "editable": true
   },
   "outputs": [],
   "source": [
    "folds = [Fold(str(arclets[i][0]), dtheta=[arclets[i][1], arclets[i][2]], mu=[arclets[i][3], arclets[i][4]]) for i in range(len(arclets))]"
   ]
  },
  {
   "cell_type": "code",
   "execution_count": 9,
   "metadata": {
    "collapsed": false,
    "deletable": true,
    "editable": true,
    "scrolled": true
   },
   "outputs": [
    {
     "name": "stdout",
     "output_type": "stream",
     "text": [
      "dtheta         theta        beta        R [pc]     more or less\n",
      "16.2775       0.02722     -16.2503    145.2624     28.11531  \n",
      "18.5079       0.05715     -18.4508    1736.962     336.1861  \n",
      "19.0237       0.03952     -18.9842    607.1532     117.5135  \n",
      "19.1462       0.02996     -19.1162    267.8184     51.83582  \n",
      "20.345       0.03476     -20.3102    472.5183     91.45516  \n",
      "22.003       0.04131     -21.9617    927.4525     179.5069  \n",
      "22.601       0.04219     -22.5588    1042.307     201.7369  \n",
      "24.733       0.02727     -24.7057    337.1322     65.2514  \n"
     ]
    },
    {
     "name": "stderr",
     "output_type": "stream",
     "text": [
      "scripts/custom_functions.py:192: RuntimeWarning: invalid value encountered in power\n",
      "  + ( s * dn * thetaR * thetaT)/(theta**3.*(1. + thetaR/(2. * theta))**(1./2.))))\n",
      "scripts/custom_functions.py:192: RuntimeWarning: invalid value encountered in sqrt\n",
      "  + ( s * dn * thetaR * thetaT)/(theta**3.*(1. + thetaR/(2. * theta))**(1./2.))))\n"
     ]
    }
   ],
   "source": [
    "print('dtheta         theta        beta        R [pc]     more or less')\n",
    "for f in folds:\n",
    "    f.get_dtheta_ref(show=False)\n",
    "    f.get_params()\n",
    "    f.make_predictions(freqs)\n",
    "    print('{0:.6}       {1:.4}     {2:.6}    {3:.7}     {4:.7}  '.format(f.dtheta, f.theta, f.beta, f.R/pc, f.err_R*(f.R/pc)))"
   ]
  },
  {
   "cell_type": "markdown",
   "metadata": {
    "deletable": true,
    "editable": true
   },
   "source": [
    "Now that we have objects to work on, it greatly lessens the chances to mess around with lists and whatnot. \n",
    "\n",
    "To predict $\\mu$ and $\\theta$, we need $\\Delta n,\\ \\theta_T$ and $s$, from the general system and $\\theta_R,\\ \\beta$ from the particular folds, all of which seems to have been gathered.\n",
    "\n",
    "We also need to make sure all the angles inputed in the function are dimensionless, a.k.a in radiansbut this has been taken care of in the Fold's prediction function."
   ]
  },
  {
   "cell_type": "code",
   "execution_count": 15,
   "metadata": {
    "collapsed": false,
    "deletable": true,
    "editable": true
   },
   "outputs": [
    {
     "name": "stdout",
     "output_type": "stream",
     "text": [
      "predictions on theta for each band\n",
      "\n",
      " id     theta       00        01        02       03\n",
      "0.0    0.02722   0.02722   0.02633   0.02548   0.02468  \n",
      "1.0    0.05715   0.05715   0.05527   0.05349   0.05182  \n",
      "2.0    0.03952   0.03952   0.03822   0.03700   0.03584  \n",
      "3.0    0.02996   0.02996   0.02897   0.02804   0.02716  \n",
      "4.0    0.03476   0.03476   0.03362   0.03254   0.03152  \n",
      "5.0    0.04131   0.04131   0.03995   0.03867   0.03746  \n",
      "6.0    0.04219   0.04219   0.04080   0.03949   0.03825  \n",
      "7.0    0.02727   0.02727   0.02637   0.02553   0.02473  \n"
     ]
    }
   ],
   "source": [
    "print('predictions on theta for each band\\n\\n id     theta       00        01        02       03')\n",
    "for f in folds: \n",
    "    print('{0}    {1:0.5f}   {2:0.5f}   {3:0.5f}   {4:0.5f}   {5:0.5f}  '.format(f.name, f.theta, f.predicted_thetas[0], f.predicted_thetas[1], f.predicted_thetas[2], f.predicted_thetas[3]))"
   ]
  },
  {
   "cell_type": "markdown",
   "metadata": {
    "deletable": true,
    "editable": true
   },
   "source": [
    "To make measurements on the predictions, I need to retransform the $\\theta$ in $\\Delta\\theta$"
   ]
  },
  {
   "cell_type": "code",
   "execution_count": 16,
   "metadata": {
    "collapsed": false,
    "deletable": true,
    "editable": true
   },
   "outputs": [
    {
     "name": "stdout",
     "output_type": "stream",
     "text": [
      "predictions on dtheta for each band\n",
      "\n",
      " id     dtheta       00        01        02       03\n",
      "0.0    16.27750   16.27750   16.27660   16.27576   16.27496  \n",
      "1.0    18.50790   18.50790   18.50602   18.50425   18.50257  \n",
      "2.0    19.02370   19.02370   19.02240   19.02117   19.02001  \n",
      "3.0    19.14620   19.14620   19.14521   19.14428   19.14340  \n",
      "4.0    20.34500   20.34500   20.34386   20.34278   20.34176  \n",
      "5.0    22.00300   22.00300   22.00164   22.00036   21.99915  \n",
      "6.0    22.60100   22.60100   22.59961   22.59830   22.59706  \n",
      "7.0    24.73300   24.73300   24.73210   24.73126   24.73045  \n"
     ]
    }
   ],
   "source": [
    "print('predictions on dtheta for each band\\n\\n id     dtheta       00        01        02       03')\n",
    "for f in folds: \n",
    "    print('{0}    {1:0.5f}   {2:0.5f}   {3:0.5f}   {4:0.5f}   {5:0.5f}  '.format(f.name, f.dtheta, f.predicted_dthetas[0], f.predicted_dthetas[1], f.predicted_dthetas[2], f.predicted_dthetas[3]))"
   ]
  },
  {
   "cell_type": "code",
   "execution_count": 22,
   "metadata": {
    "collapsed": false,
    "deletable": true,
    "editable": true
   },
   "outputs": [
    {
     "name": "stdout",
     "output_type": "stream",
     "text": [
      "predictions on mu for each band\n",
      "\n",
      " id     mu       00        01        02       03\n",
      "0.0    0.001064   0.001063   0.001028   0.000995   0.000964  \n",
      "1.0    0.001964   0.001960   0.001896   0.001836   0.001778  \n",
      "2.0    0.001322   0.001320   0.001277   0.001236   0.001197  \n",
      "3.0    0.000995   0.000994   0.000962   0.000931   0.000902  \n",
      "4.0    0.001087   0.001086   0.001050   0.001017   0.000985  \n",
      "5.0    0.001194   0.001193   0.001154   0.001117   0.001082  \n",
      "6.0    0.001187   0.001186   0.001147   0.001110   0.001076  \n",
      "7.0    0.000701   0.000701   0.000678   0.000656   0.000636  \n"
     ]
    }
   ],
   "source": [
    "print('predictions on mu for each band\\n\\n id     mu       00        01        02       03')\n",
    "for f in folds: \n",
    "    print('{0}    {1:0.6f}   {2:0.6f}   {3:0.6f}   {4:0.6f}   {5:0.6f}  '.format(f.name, f.mu, f.predicted_mus[0], f.predicted_mus[1], f.predicted_mus[2], f.predicted_mus[3]))"
   ]
  },
  {
   "cell_type": "code",
   "execution_count": 20,
   "metadata": {
    "collapsed": false,
    "deletable": true,
    "editable": true
   },
   "outputs": [
    {
     "data": {
      "image/png": "[encoded data removed]",
      "text/plain": [
       "<matplotlib.figure.Figure at 0x1128c0f90>"
      ]
     },
     "metadata": {},
     "output_type": "display_data"
    },
    {
     "data": {
      "text/plain": [
       "([1.3283853522031879,\n",
       "  1.3242117494902257,\n",
       "  1.3271893072838306,\n",
       "  1.3287037039410894,\n",
       "  1.3282783787995427,\n",
       "  1.3277799138853086,\n",
       "  1.3278118345477821,\n",
       "  1.3300693691508667],\n",
       " 1.3333333333333333)"
      ]
     },
     "execution_count": 20,
     "metadata": {},
     "output_type": "execute_result"
    }
   ],
   "source": [
    "lambdas = np.array([c/f for f in freqs])\n",
    "lambdas**(4./3)\n",
    "fig = plt.figure(figsize=(11,9))\n",
    "for i in range(8):\n",
    "    plt.loglog(lambdas, folds[i].predicted_mus, 'o', c=colors[i], ms=3, basex=10, basey=10)\n",
    "    plt.loglog(lambdas, folds[i].predicted_mus, '-', c=colors[i], ms=2, alpha=0.3, basex=10, basey=10)\n",
    "plt.ylabel('Predicted $\\mu/\\mu_0$ (logscale)')\n",
    "plt.xlabel('$\\lambda$ (logscale)')\n",
    "plt.show()\n",
    "\n",
    "slopes=[]\n",
    "for i in range(8):\n",
    "    y1 = np.log10(folds[i].predicted_mus[0])\n",
    "    y2 = np.log10(folds[i].predicted_mus[3])\n",
    "    x1 = np.log10(lambdas[0])\n",
    "    x2 = np.log10(lambdas[3])\n",
    "    m=(y2-y1)/(x2-x1)\n",
    "    slopes.append(m)\n",
    "slopes, 4./3"
   ]
  },
  {
   "cell_type": "code",
   "execution_count": 21,
   "metadata": {
    "collapsed": false,
    "deletable": true,
    "editable": true
   },
   "outputs": [
    {
     "name": "stdout",
     "output_type": "stream",
     "text": [
      "verification of the limit on theta\n",
      "\n",
      " id     theta    thetaR     orders magn.\n",
      "0.0    0.02722    0.37343      13.71674 \n",
      "1.0    0.05715    4.46520      78.13673 \n",
      "2.0    0.03952    1.56081      39.48988 \n",
      "3.0    0.02996    0.68848      22.98118 \n",
      "4.0    0.03476    1.21470      34.94147 \n",
      "5.0    0.04131    2.38420      57.71287 \n",
      "6.0    0.04219    2.67945      63.50958 \n",
      "7.0    0.02727    0.86666      31.77911 \n"
     ]
    }
   ],
   "source": [
    "print('verification of the limit on theta\\n\\n id     theta    thetaR     orders magn.')\n",
    "for f in folds: \n",
    "    order = f.thetaR / (f.theta)\n",
    "    print('{0}    {1:0.5f}    {2:0.5f}      {3:0.5f} '.format(f.name, f.theta, f.thetaR, order))"
   ]
  },
  {
   "cell_type": "markdown",
   "metadata": {
    "deletable": true,
    "editable": true
   },
   "source": [
    "## Testing for main arclet to see if 10x is a good approximation"
   ]
  },
  {
   "cell_type": "code",
   "execution_count": 83,
   "metadata": {
    "collapsed": true,
    "deletable": true,
    "editable": true
   },
   "outputs": [],
   "source": [
    "theta_ma = -15.87\n",
    "dtheta_ma = 10.230637146806034\n",
    "mu_ma = 0.0513892242725"
   ]
  },
  {
   "cell_type": "code",
   "execution_count": 84,
   "metadata": {
    "collapsed": true,
    "deletable": true,
    "editable": true
   },
   "outputs": [],
   "source": [
    "mf = Fold('main arclet', dtheta=[dtheta_ma, 0.1*dtheta_ma], mu=[mu_ma, 0.2*mu_ma])"
   ]
  },
  {
   "cell_type": "code",
   "execution_count": 86,
   "metadata": {
    "collapsed": false,
    "deletable": true,
    "editable": true
   },
   "outputs": [
    {
     "name": "stdout",
     "output_type": "stream",
     "text": [
      "predictions on dtheta for each band\n",
      "\n",
      " id     dtheta       00        01        02       03\n",
      "main arclet    10.23064   10.23064   10.20589   10.18247   10.16028  \n",
      "predictions on mu for each band\n",
      "\n",
      " id     mu       00        01        02       03\n",
      "main arclet    0.051389   0.048877   0.047526   0.046237   0.045007  \n"
     ]
    }
   ],
   "source": [
    "mf.get_dtheta_ref(show=False)\n",
    "mf.get_params()\n",
    "mf.get_curvature()\n",
    "mf.make_predictions(freqs)\n",
    "\n",
    "print('predictions on dtheta for each band\\n\\n id     dtheta       00        01        02       03')\n",
    "for f in [mf]: \n",
    "    print('{0}    {1:0.5f}   {2:0.5f}   {3:0.5f}   {4:0.5f}   {5:0.5f}  '.format(f.name, f.dtheta, f.predicted_dthetas[0], f.predicted_dthetas[1], f.predicted_dthetas[2], f.predicted_dthetas[3]))\n",
    "print('predictions on mu for each band\\n\\n id     mu       00        01        02       03')\n",
    "for f in [mf]: \n",
    "    print('{0}    {1:0.6f}   {2:0.6f}   {3:0.6f}   {4:0.6f}   {5:0.6f}  '.format(f.name, f.mu, f.predicted_mus[0], f.predicted_mus[1], f.predicted_mus[2], f.predicted_mus[3]))"
   ]
  },
  {
   "cell_type": "markdown",
   "metadata": {
    "collapsed": true,
    "deletable": true,
    "editable": true
   },
   "source": [
    "# Represent discrepancy between measurements and predictions"
   ]
  },
  {
   "cell_type": "code",
   "execution_count": 23,
   "metadata": {
    "collapsed": false,
    "deletable": true,
    "editable": true
   },
   "outputs": [
    {
     "data": {
      "text/plain": [
       "[[16.2775, 16.262, nan],\n",
       " [18.507899999999999, 18.495000000000001, 18.462],\n",
       " [19.023700000000002, 19.010999999999999, 18.995000000000001],\n",
       " [19.1462, 19.138999999999999, 19.126000000000001],\n",
       " [20.344999999999999, 20.332999999999998, 20.324000000000002],\n",
       " [22.003, 21.989000000000001, 21.975999999999999],\n",
       " [22.600999999999999, 22.593, nan],\n",
       " [24.733000000000001, 24.725000000000001, 24.712]]"
      ]
     },
     "execution_count": 23,
     "metadata": {},
     "output_type": "execute_result"
    }
   ],
   "source": [
    "mac=True\n",
    "if mac:\n",
    "    mp = np.load('dtheta_position_arclets00_8rows.npy').reshape(8, -1)\n",
    "else:\n",
    "    mp = np.load('/mnt/scratch-lustre/bdesy/b0834/data/measurements/dtheta_position_arclets00_8rows.npy').reshape(8, -1)\n",
    "measured_positions = []\n",
    "for i in range(8):\n",
    "    trus = []\n",
    "    for ii in range(3):\n",
    "        trus.append(mp[i][0][ii+1])\n",
    "    measured_positions.append(trus)\n",
    "measured_positions"
   ]
  },
  {
   "cell_type": "code",
   "execution_count": 24,
   "metadata": {
    "collapsed": false,
    "deletable": true,
    "editable": true
   },
   "outputs": [
    {
     "data": {
      "image/png": "[encoded data removed]",
      "text/plain": [
       "<matplotlib.figure.Figure at 0x10a5a4e10>"
      ]
     },
     "metadata": {},
     "output_type": "display_data"
    }
   ],
   "source": [
    "fig= plt.figure(figsize=(9,27))\n",
    "xaxis=[0, 1, 2, 3]\n",
    "for i in range(8):\n",
    "    plt.plot(xaxis, folds[i].predicted_dthetas, c=colors[i], alpha=0.5)\n",
    "    plt.plot(xaxis[:3], measured_positions[i], '--', c=colors[i], label='Faint arclet '+str(i))\n",
    "#plt.ylim(18.2, 19.5)\n",
    "plt.xticks(xaxis)\n",
    "plt.xlabel('Frequency band')\n",
    "plt.ylabel(r'$\\Delta\\theta$')\n",
    "#plt.legend()\n",
    "plt.show()"
   ]
  },
  {
   "cell_type": "code",
   "execution_count": null,
   "metadata": {
    "collapsed": true,
    "deletable": true,
    "editable": true
   },
   "outputs": [],
   "source": []
  },
  {
   "cell_type": "code",
   "execution_count": null,
   "metadata": {
    "collapsed": true,
    "deletable": true,
    "editable": true
   },
   "outputs": [],
   "source": []
  }
 ],
 "metadata": {
  "kernelspec": {
   "display_name": "Python 2",
   "language": "python",
   "name": "python2"
  },
  "language_info": {
   "codemirror_mode": {
    "name": "ipython",
    "version": 2
   },
   "file_extension": ".py",
   "mimetype": "text/x-python",
   "name": "python",
   "nbconvert_exporter": "python",
   "pygments_lexer": "ipython2",
   "version": "2.7.13"
  }
 },
 "nbformat": 4,
 "nbformat_minor": 2
}
