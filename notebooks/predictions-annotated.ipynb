{
 "cells": [
  {
   "cell_type": "code",
   "execution_count": 1,
   "metadata": {
    "collapsed": true
   },
   "outputs": [],
   "source": [
    "import numpy as np\n",
    "import matplotlib.pyplot as plt\n",
    "%matplotlib inline\n",
    "import matplotlib\n",
    "import pylab as pl\n",
    "from solutions import *\n",
    "import time as t"
   ]
  },
  {
   "cell_type": "code",
   "execution_count": 2,
   "metadata": {
    "collapsed": true
   },
   "outputs": [],
   "source": [
    "font = {'weight' : 'light',\n",
    "        'size'   : 14}\n",
    "matplotlib.rc('font', **font)"
   ]
  },
  {
   "cell_type": "markdown",
   "metadata": {},
   "source": [
    "Defining units to be used : astronomical unit, velocity of light, parsec, milliarcsecond and classical electron radius."
   ]
  },
  {
   "cell_type": "code",
   "execution_count": 3,
   "metadata": {
    "collapsed": true
   },
   "outputs": [],
   "source": [
    "AU = 1.469e13\n",
    "c=2.99792458e10\n",
    "pc=3.0e18\n",
    "mas=4.848e-9\n",
    "re =2.8e-13"
   ]
  },
  {
   "cell_type": "markdown",
   "metadata": {},
   "source": [
    "The values of the distances to the pulsar $D_p$ and to the lense $D_{lens}$ from Siqi's paper analysis."
   ]
  },
  {
   "cell_type": "code",
   "execution_count": 4,
   "metadata": {},
   "outputs": [
    {
     "data": {
      "text/plain": [
       "1.167e+21"
      ]
     },
     "execution_count": 4,
     "metadata": {},
     "output_type": "execute_result"
    }
   ],
   "source": [
    "dp=620.* pc\n",
    "dlens=389.* pc\n",
    "dlens"
   ]
  },
  {
   "cell_type": "markdown",
   "metadata": {},
   "source": [
    " The definitions for characterization parameters from Simard's paper and input of the wavelenght of observations $\\lambda = c/\\nu$ where $\\nu$ is the center frequency of observations 314.5 MHz."
   ]
  },
  {
   "cell_type": "code",
   "execution_count": 5,
   "metadata": {
    "collapsed": true
   },
   "outputs": [],
   "source": [
    "Deff=dp*dlens/(dp-dlens)\n",
    "s = 1.-dlens/dp\n",
    "l=c/314.5e6"
   ]
  },
  {
   "cell_type": "markdown",
   "metadata": {},
   "source": [
    "$\\beta$ is the true position of the pulsar, we create an array to move the pulsar behind the lens from -1000 mas to 1000 mas, that is to say -1 arcsec to 1 arcsec."
   ]
  },
  {
   "cell_type": "code",
   "execution_count": 6,
   "metadata": {},
   "outputs": [
    {
     "data": {
      "text/plain": [
       "array([-500.  , -499.99, -499.98, ...,  499.97,  499.98,  499.99])"
      ]
     },
     "execution_count": 6,
     "metadata": {},
     "output_type": "execute_result"
    }
   ],
   "source": [
    "#temporarily changed for speeding purposes\n",
    "betas = -500. + (np.arange(2*50000)*0.01)\n",
    "betas"
   ]
  },
  {
   "cell_type": "markdown",
   "metadata": {},
   "source": [
    "Lens parameters we can play with : the amplitude of the Alfven wave $A$, its wavelenght $\\lambda_A$, the thickness of the sheet $T$ and the electron density within the lens $\\Delta n_e$. "
   ]
  },
  {
   "cell_type": "code",
   "execution_count": 7,
   "metadata": {
    "collapsed": true
   },
   "outputs": [],
   "source": [
    "A = 0.3*AU\n",
    "la = 10**5.*AU\n",
    "T = 0.03*AU\n",
    "dne = 0.003"
   ]
  },
  {
   "cell_type": "markdown",
   "metadata": {},
   "source": [
    "Finally we define the radius of curvature of the lens $R$, the dimensionless parameters $\\theta_R$ and $\\theta_T$ and the variation of index of refraction $\\Delta n$."
   ]
  },
  {
   "cell_type": "code",
   "execution_count": 8,
   "metadata": {},
   "outputs": [
    {
     "data": {
      "text/plain": [
       "-1.2147852890204983e-12"
      ]
     },
     "execution_count": 8,
     "metadata": {},
     "output_type": "execute_result"
    }
   ],
   "source": [
    "R = la**2./(4.*np.pi**2*A)\n",
    "\n",
    "thetaR=R/dlens\n",
    "thetaT=T/dlens\n",
    "dn = -l**2./(2.*np.pi)*dne*re\n",
    "dn"
   ]
  },
  {
   "cell_type": "code",
   "execution_count": 9,
   "metadata": {},
   "outputs": [
    {
     "data": {
      "text/plain": [
       "4134.467188072062"
      ]
     },
     "execution_count": 9,
     "metadata": {},
     "output_type": "execute_result"
    }
   ],
   "source": [
    "R/pc"
   ]
  },
  {
   "cell_type": "markdown",
   "metadata": {},
   "source": [
    "The function to get theta is solving the lens equation of the specific for of the 6th order polynomial $$ p = 4 \\theta^6 +\n",
    "         (2 \\theta_R - 8 \\beta) \\theta^5+\n",
    "         (4 \\beta^2 - 4 \\beta\\theta_R )\\theta^4+\n",
    "         (2\\beta^2\\theta_R)\\theta^3 \n",
    "         -(s \\Delta n \\theta_R \\theta_T)^2$$\n",
    "The specific way to select the right root comes from Mathematica. "
   ]
  },
  {
   "cell_type": "markdown",
   "metadata": {},
   "source": [
    "# Divergent"
   ]
  },
  {
   "cell_type": "markdown",
   "metadata": {},
   "source": [
    "For a divergent lens, the variation of electron density $\\Delta n_e$ is positive, so the sign of $\\Delta n$ remains negative."
   ]
  },
  {
   "cell_type": "code",
   "execution_count": 17,
   "metadata": {
    "collapsed": true
   },
   "outputs": [],
   "source": [
    "dnd=dn"
   ]
  },
  {
   "cell_type": "markdown",
   "metadata": {},
   "source": [
    "We compute the locations $\\theta_d$ and magnifications $\\mu_d$ of the lensed image for each real position $\\beta$ of the pulsar."
   ]
  },
  {
   "cell_type": "code",
   "execution_count": 11,
   "metadata": {},
   "outputs": [
    {
     "name": "stderr",
     "output_type": "stream",
     "text": [
      "solutions.py:29: RuntimeWarning: invalid value encountered in power\n",
      "  + ( s * dn * thetaR * thetaT)/(theta**3.*(1. + thetaR/(2. * theta))**(1./2.))))\n",
      "solutions.py:29: RuntimeWarning: invalid value encountered in sqrt\n",
      "  + ( s * dn * thetaR * thetaT)/(theta**3.*(1. + thetaR/(2. * theta))**(1./2.))))\n",
      "solutions.py:29: RuntimeWarning: divide by zero encountered in divide\n",
      "  + ( s * dn * thetaR * thetaT)/(theta**3.*(1. + thetaR/(2. * theta))**(1./2.))))\n",
      "solutions.py:29: RuntimeWarning: invalid value encountered in multiply\n",
      "  + ( s * dn * thetaR * thetaT)/(theta**3.*(1. + thetaR/(2. * theta))**(1./2.))))\n",
      "/Users/beatrice/anaconda/lib/python2.7/site-packages/ipykernel_launcher.py:11: RuntimeWarning: invalid value encountered in greater\n",
      "  # This is added back by InteractiveShellApp.init_path()\n",
      "/Users/beatrice/anaconda/lib/python2.7/site-packages/ipykernel_launcher.py:11: RuntimeWarning: invalid value encountered in less\n",
      "  # This is added back by InteractiveShellApp.init_path()\n"
     ]
    }
   ],
   "source": [
    "thetasd = np.zeros((len(betas),2)) \n",
    "musd = np.zeros((len(betas),2))\n",
    "for i in np.arange(0, len(thetasd)):# range(len(thetasd)):\n",
    "    thetasd[i] = get_theta(dnd,thetaR,thetaT,betas[i]*mas,s)/mas\n",
    "    musd[i] = get_mu(dnd,thetaR,thetaT,betas[i]*mas,s)\n",
    "    if thetasd[i,0]==thetasd[i,1]:\n",
    "        thetasd[i,:] = [None,None]\n",
    "        musd[i,:] = [None,None]\n",
    "\n",
    "# The last line doesn't change anything but raises a RuntimeWarning for comparing some nan in thetasd with values\n",
    "musd[(thetasd>0) & (thetasd<T/dlens)]=0."
   ]
  },
  {
   "cell_type": "code",
   "execution_count": 12,
   "metadata": {
    "collapsed": true
   },
   "outputs": [],
   "source": [
    "#musd"
   ]
  },
  {
   "cell_type": "code",
   "execution_count": 13,
   "metadata": {
    "collapsed": true
   },
   "outputs": [],
   "source": [
    "#thetasd"
   ]
  },
  {
   "cell_type": "code",
   "execution_count": 14,
   "metadata": {
    "scrolled": false
   },
   "outputs": [
    {
     "data": {
      "text/plain": [
       "[<matplotlib.lines.Line2D at 0x10a3abc50>]"
      ]
     },
     "execution_count": 14,
     "metadata": {},
     "output_type": "execute_result"
    },
    {
     "data": {
      "image/png": "[encoded data removed]",
      "text/plain": [
       "<matplotlib.figure.Figure at 0x109ead210>"
      ]
     },
     "metadata": {},
     "output_type": "display_data"
    }
   ],
   "source": [
    "plt.plot(betas,thetasd.T[0], label='0')\n",
    "plt.plot(betas,thetasd.T[1], label='1')\n",
    "plt.plot([-10,10],[T/dlens/mas,T/dlens/mas])\n",
    "plt.xlabel(r'$\\beta$')\n",
    "plt.ylabel(r'$\\theta_d$')\n",
    "plt.xlim([-10,10])\n",
    "plt.ylim([-10,10])\n",
    "plt.legend()\n",
    "plt.plot([-10,10],[A/dlens/mas,A/dlens/mas])"
   ]
  },
  {
   "cell_type": "code",
   "execution_count": 15,
   "metadata": {},
   "outputs": [
    {
     "data": {
      "text/plain": [
       "<matplotlib.legend.Legend at 0x10a74cfd0>"
      ]
     },
     "execution_count": 15,
     "metadata": {},
     "output_type": "execute_result"
    },
    {
     "data": {
      "image/png": "[encoded data removed]",
      "text/plain": [
       "<matplotlib.figure.Figure at 0x109ebc4d0>"
      ]
     },
     "metadata": {},
     "output_type": "display_data"
    }
   ],
   "source": [
    "plt.plot(betas,musd.T[1], label='1')\n",
    "plt.plot(betas,musd.T[0], label='0')\n",
    "plt.xlabel(r'$\\beta$')\n",
    "plt.ylabel(r'$\\mu_d$')\n",
    "plt.ylim(-10,10)\n",
    "plt.xlim(-2,2)\n",
    "plt.legend()"
   ]
  },
  {
   "cell_type": "markdown",
   "metadata": {},
   "source": [
    "### Check the maximum separation"
   ]
  },
  {
   "cell_type": "code",
   "execution_count": 24,
   "metadata": {
    "scrolled": true
   },
   "outputs": [
    {
     "data": {
      "text/plain": [
       "1.2147852890204983e-12"
      ]
     },
     "execution_count": 24,
     "metadata": {},
     "output_type": "execute_result"
    }
   ],
   "source": [
    "T/dlens/mas, thetaT/mas"
   ]
  },
  {
   "cell_type": "code",
   "execution_count": 23,
   "metadata": {
    "collapsed": true,
    "scrolled": true
   },
   "outputs": [],
   "source": [
    "thetasd0 = thetasd[:,0][thetasd[:,0]==thetasd[:,0]] # don't understand this statement\n",
    "arg = np.where(thetasd[:,0]==thetasd0[np.argmin(np.absolute(thetasd0-T/dlens/mas/2))])"
   ]
  },
  {
   "cell_type": "code",
   "execution_count": 56,
   "metadata": {
    "scrolled": true
   },
   "outputs": [
    {
     "data": {
      "text/plain": [
       "(array([[  3.89469740e-02,   1.25339314e+02]]),\n",
       " array([[-125.30036665]]),\n",
       " array([[ 0.]]))"
      ]
     },
     "execution_count": 56,
     "metadata": {},
     "output_type": "execute_result"
    }
   ],
   "source": [
    "thetasd[arg],thetasd[arg,0]-thetasd[arg,1],musd[arg,0]/musd[arg,1]"
   ]
  },
  {
   "cell_type": "markdown",
   "metadata": {},
   "source": [
    "### Check the magnification at a flux ratio of 0.01"
   ]
  },
  {
   "cell_type": "code",
   "execution_count": 57,
   "metadata": {},
   "outputs": [
    {
     "data": {
      "text/plain": [
       "(array([[-12.27504403]]), array([-0.00999712]))"
      ]
     },
     "execution_count": 57,
     "metadata": {},
     "output_type": "execute_result"
    }
   ],
   "source": [
    "flux_ratiod = musd[:,0]/musd[:,1]\n",
    "flux_ratiod2 = flux_ratiod[flux_ratiod==flux_ratiod]\n",
    "arg2 = np.where(flux_ratiod==flux_ratiod2[np.argmin(np.absolute(np.absolute(flux_ratiod2) -0.01))])\n",
    "thetasd[arg2,0]-thetasd[arg2,1],flux_ratiod[arg2]"
   ]
  },
  {
   "cell_type": "markdown",
   "metadata": {},
   "source": [
    "### Check the minimum separation"
   ]
  },
  {
   "cell_type": "code",
   "execution_count": 58,
   "metadata": {},
   "outputs": [
    {
     "data": {
      "text/plain": [
       "-0.18427628242719063"
      ]
     },
     "execution_count": 58,
     "metadata": {},
     "output_type": "execute_result"
    }
   ],
   "source": [
    "sep = thetasd[:,0]-thetasd[:,1]\n",
    "sep0 = sep[sep==sep]\n",
    "sep0[np.argmax(sep0)]"
   ]
  },
  {
   "cell_type": "code",
   "execution_count": 59,
   "metadata": {
    "collapsed": true
   },
   "outputs": [],
   "source": [
    "thetasd0 = thetasd[:,0][thetasd[:,0]==thetasd[:,0]]\n",
    "arg = np.where(thetasd[:,0]==thetasd0[np.argmin(np.absolute(thetasd0-A/dlens/mas))])"
   ]
  },
  {
   "cell_type": "code",
   "execution_count": 60,
   "metadata": {},
   "outputs": [
    {
     "data": {
      "text/plain": [
       "(array([[ 0.77884988,  1.77155535]]),\n",
       " array([[-0.99270547]]),\n",
       " array([[-0.38514275]]))"
      ]
     },
     "execution_count": 60,
     "metadata": {},
     "output_type": "execute_result"
    }
   ],
   "source": [
    "thetasd[arg],thetasd[arg,0]-thetasd[arg,1],musd[arg,0]/musd[arg,1]"
   ]
  },
  {
   "cell_type": "markdown",
   "metadata": {},
   "source": [
    "# Convergent"
   ]
  },
  {
   "cell_type": "code",
   "execution_count": 20,
   "metadata": {},
   "outputs": [
    {
     "name": "stderr",
     "output_type": "stream",
     "text": [
      "/Users/beatrice/anaconda/lib/python2.7/site-packages/ipykernel_launcher.py:10: RuntimeWarning: invalid value encountered in greater\n",
      "  # Remove the CWD from sys.path while we load stuff.\n",
      "/Users/beatrice/anaconda/lib/python2.7/site-packages/ipykernel_launcher.py:10: RuntimeWarning: invalid value encountered in less\n",
      "  # Remove the CWD from sys.path while we load stuff.\n"
     ]
    }
   ],
   "source": [
    "dnc=-dn\n",
    "thetasc = np.zeros((len(betas),2)) \n",
    "musc = np.zeros((len(betas),2))\n",
    "for i in range(len(thetasc)):\n",
    "    thetasc[i] = get_theta(dnc,thetaR,thetaT,betas[i]*mas,s)/mas\n",
    "    musc[i] = get_mu(dnc,thetaR,thetaT,betas[i]*mas,s)\n",
    "    if thetasc[i,0]==thetasc[i,1]:\n",
    "        thetasc[i,:] = [None,None]\n",
    "        musc[i,:] = [None,None]\n",
    "musc[(thetasc>0) & (thetasc<T/dlens/mas)]=0."
   ]
  },
  {
   "cell_type": "code",
   "execution_count": 26,
   "metadata": {},
   "outputs": [
    {
     "data": {
      "text/plain": [
       "<matplotlib.text.Text at 0x10e0a9790>"
      ]
     },
     "execution_count": 26,
     "metadata": {},
     "output_type": "execute_result"
    },
    {
     "data": {
      "image/png": "[encoded data removed]",
      "text/plain": [
       "<matplotlib.figure.Figure at 0x10daa55d0>"
      ]
     },
     "metadata": {},
     "output_type": "display_data"
    }
   ],
   "source": [
    "plt.plot(betas,thetasc)\n",
    "plt.plot([-10,10],[T/dlens/mas,T/dlens/mas])\n",
    "plt.plot([-10,10],[A/dlens/mas,A/dlens/mas])\n",
    "plt.xlim([-10,10])\n",
    "plt.ylim([-10,10])\n",
    "plt.xlabel(r'$\\beta$')\n",
    "plt.ylabel(r'$\\theta_c$')"
   ]
  },
  {
   "cell_type": "code",
   "execution_count": 27,
   "metadata": {},
   "outputs": [
    {
     "data": {
      "text/plain": [
       "(-10, 10)"
      ]
     },
     "execution_count": 27,
     "metadata": {},
     "output_type": "execute_result"
    },
    {
     "data": {
      "image/png": "[encoded data removed]",
      "text/plain": [
       "<matplotlib.figure.Figure at 0x10dab1790>"
      ]
     },
     "metadata": {},
     "output_type": "display_data"
    }
   ],
   "source": [
    "plt.plot(betas,musc)\n",
    "plt.ylim(0,2)\n",
    "plt.xlim(-10,10)"
   ]
  },
  {
   "cell_type": "code",
   "execution_count": 64,
   "metadata": {},
   "outputs": [
    {
     "data": {
      "text/plain": [
       "array([[ 0.        ,  1.        ],\n",
       "       [ 0.        ,  1.        ],\n",
       "       [ 0.        ,  1.        ],\n",
       "       ..., \n",
       "       [ 0.99999995,         nan],\n",
       "       [ 0.99999995,         nan],\n",
       "       [ 0.99999995,         nan]])"
      ]
     },
     "execution_count": 64,
     "metadata": {},
     "output_type": "execute_result"
    }
   ],
   "source": [
    "musc"
   ]
  },
  {
   "cell_type": "markdown",
   "metadata": {},
   "source": [
    "### Check the minimum separation"
   ]
  },
  {
   "cell_type": "code",
   "execution_count": 65,
   "metadata": {},
   "outputs": [
    {
     "data": {
      "text/plain": [
       "array([[ 0.98107996, -0.01      ]])"
      ]
     },
     "execution_count": 65,
     "metadata": {},
     "output_type": "execute_result"
    }
   ],
   "source": [
    "arg = np.where(betas==0)\n",
    "thetasc[arg[0]-1]"
   ]
  },
  {
   "cell_type": "markdown",
   "metadata": {},
   "source": [
    "### Check the maximum separation"
   ]
  },
  {
   "cell_type": "code",
   "execution_count": 66,
   "metadata": {},
   "outputs": [
    {
     "data": {
      "text/plain": [
       "0.07789500029694486"
      ]
     },
     "execution_count": 66,
     "metadata": {},
     "output_type": "execute_result"
    }
   ],
   "source": [
    "T/dlens/mas"
   ]
  },
  {
   "cell_type": "code",
   "execution_count": 67,
   "metadata": {
    "collapsed": true
   },
   "outputs": [],
   "source": [
    "thetasc0 = thetasc[:,0][(thetasc[:,0]==thetasc[:,0])]\n",
    "thetasc0 = thetasc0[thetasc0!=0.]\n",
    "arg = np.where(thetasc[:,0]==thetasc0[np.argmin(np.absolute(thetasc0-T/dlens/mas/2))])"
   ]
  },
  {
   "cell_type": "code",
   "execution_count": 68,
   "metadata": {},
   "outputs": [
    {
     "data": {
      "text/plain": [
       "(array([[  3.89474104e-02,  -1.25260000e+02]]),\n",
       " array([[ 125.29894741]]),\n",
       " array([[ 0.]]),\n",
       " array([ 0.]))"
      ]
     },
     "execution_count": 68,
     "metadata": {},
     "output_type": "execute_result"
    }
   ],
   "source": [
    "thetasc[arg],thetasc[arg,0]-thetasc[arg,1],musc[arg,0]/musc[arg,1],musc[arg[0]+1,0]/musc[arg[0]+1,1]"
   ]
  },
  {
   "cell_type": "markdown",
   "metadata": {},
   "source": [
    "### Check the magnification at a flux ratio of 0.01"
   ]
  },
  {
   "cell_type": "code",
   "execution_count": 69,
   "metadata": {},
   "outputs": [
    {
     "data": {
      "text/plain": [
       "(array([[ 12.16438129]]), array([ 0.01000389]))"
      ]
     },
     "execution_count": 69,
     "metadata": {},
     "output_type": "execute_result"
    }
   ],
   "source": [
    "flux_ratioc = musc[:,0]/musc[:,1]\n",
    "flux_ratioc2 = flux_ratioc[flux_ratioc==flux_ratioc]\n",
    "arg2 = np.where(flux_ratioc==flux_ratioc2[np.argmin(np.absolute(np.absolute(flux_ratioc2) -0.01))])\n",
    "thetasc[arg2,0]-thetasc[arg2,1],flux_ratioc[arg2]"
   ]
  },
  {
   "cell_type": "code",
   "execution_count": 70,
   "metadata": {},
   "outputs": [
    {
     "data": {
      "text/plain": [
       "98802"
      ]
     },
     "execution_count": 70,
     "metadata": {},
     "output_type": "execute_result"
    }
   ],
   "source": [
    "np.argmin(np.absolute(np.absolute(flux_ratioc2) -0.01))"
   ]
  },
  {
   "cell_type": "code",
   "execution_count": 71,
   "metadata": {},
   "outputs": [
    {
     "data": {
      "text/plain": [
       "0.010003893386969928"
      ]
     },
     "execution_count": 71,
     "metadata": {},
     "output_type": "execute_result"
    }
   ],
   "source": [
    "flux_ratioc2[np.argmin(np.absolute(np.absolute(flux_ratioc2) -0.01))]"
   ]
  },
  {
   "cell_type": "code",
   "execution_count": 72,
   "metadata": {},
   "outputs": [
    {
     "name": "stderr",
     "output_type": "stream",
     "text": [
      "/Users/dana/Programs/anaconda3/lib/python3.5/site-packages/ipykernel/__main__.py:1: VisibleDeprecationWarning: converting an array with ndim > 0 to an index will result in an error in the future\n",
      "  if __name__ == '__main__':\n"
     ]
    },
    {
     "data": {
      "text/plain": [
       "array([ 0.        ,  0.        ,  0.        , ...,  0.39273591,\n",
       "        0.39514718,  0.39756859])"
      ]
     },
     "execution_count": 72,
     "metadata": {},
     "output_type": "execute_result"
    }
   ],
   "source": [
    "musc[arg[0]:100000,0]"
   ]
  },
  {
   "cell_type": "markdown",
   "metadata": {},
   "source": [
    "### Check the minimum separation"
   ]
  },
  {
   "cell_type": "code",
   "execution_count": 73,
   "metadata": {
    "collapsed": true
   },
   "outputs": [],
   "source": [
    "thetasc0 = thetasc[:,0][(thetasc[:,0]==thetasc[:,0])]\n",
    "thetasc0 = thetasc0[thetasc0!=0.]\n",
    "arg = np.where(thetasc[:,0]==thetasc0[np.argmin(np.absolute(thetasc0-A/dlens/mas))])"
   ]
  },
  {
   "cell_type": "code",
   "execution_count": 74,
   "metadata": {},
   "outputs": [
    {
     "data": {
      "text/plain": [
       "(array([[ 0.77947227, -0.62      ]]),\n",
       " array([[ 1.39947227]]),\n",
       " array([[ 0.27077414]]),\n",
       " array([ 0.27249482]))"
      ]
     },
     "execution_count": 74,
     "metadata": {},
     "output_type": "execute_result"
    }
   ],
   "source": [
    "thetasc[arg],thetasc[arg,0]-thetasc[arg,1],musc[arg,0]/musc[arg,1],musc[arg[0]+1,0]/musc[arg[0]+1,1]"
   ]
  },
  {
   "cell_type": "markdown",
   "metadata": {
    "collapsed": true
   },
   "source": [
    "### Scale of $\\theta_{ref}$"
   ]
  },
  {
   "cell_type": "code",
   "execution_count": 10,
   "metadata": {},
   "outputs": [
    {
     "data": {
      "text/plain": [
       "(1.4142135623730951,\n",
       " 0.3725806451612903,\n",
       " -1.2147852890204983e-12,\n",
       " 3.776349614395887e-10,\n",
       " 3.2601304199281711)"
      ]
     },
     "execution_count": 10,
     "metadata": {},
     "output_type": "execute_result"
    }
   ],
   "source": [
    "np.sqrt(2.), s, dn, thetaT, np.sqrt(thetaR)"
   ]
  },
  {
   "cell_type": "code",
   "execution_count": 11,
   "metadata": {
    "collapsed": true
   },
   "outputs": [],
   "source": [
    "theta_ref = ((np.sqrt(2.)/2.)*s*dn*thetaT*np.sqrt(thetaR))"
   ]
  },
  {
   "cell_type": "code",
   "execution_count": 16,
   "metadata": {},
   "outputs": [
    {
     "data": {
      "text/plain": [
       "1.5524726944365597e-43"
      ]
     },
     "execution_count": 16,
     "metadata": {},
     "output_type": "execute_result"
    }
   ],
   "source": [
    "theta_ref**(2.)"
   ]
  },
  {
   "cell_type": "code",
   "execution_count": 41,
   "metadata": {},
   "outputs": [
    {
     "data": {
      "text/plain": [
       "5.153631999999998e-44"
      ]
     },
     "execution_count": 41,
     "metadata": {},
     "output_type": "execute_result"
    }
   ],
   "source": [
    "(2.2e-9)**5."
   ]
  },
  {
   "cell_type": "code",
   "execution_count": null,
   "metadata": {
    "collapsed": true
   },
   "outputs": [],
   "source": []
  },
  {
   "cell_type": "code",
   "execution_count": null,
   "metadata": {
    "collapsed": true
   },
   "outputs": [],
   "source": []
  }
 ],
 "metadata": {
  "anaconda-cloud": {},
  "kernelspec": {
   "display_name": "Python 2",
   "language": "python",
   "name": "python2"
  },
  "language_info": {
   "codemirror_mode": {
    "name": "ipython",
    "version": 2
   },
   "file_extension": ".py",
   "mimetype": "text/x-python",
   "name": "python",
   "nbconvert_exporter": "python",
   "pygments_lexer": "ipython2",
   "version": "2.7.13"
  }
 },
 "nbformat": 4,
 "nbformat_minor": 1
}
